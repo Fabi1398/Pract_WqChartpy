{
 "cells": [
  {
   "cell_type": "markdown",
   "metadata": {},
   "source": [
    "### Import the required libraries\n",
    "Fot this tutorial we have developed two packages, one that stores some text for the style file (\\*.sld) and another that generates the Stiff format. There are required packages for the tutorial as pandas, re, and os. "
   ]
  },
  {
   "cell_type": "code",
   "execution_count": 1,
   "metadata": {},
   "outputs": [],
   "source": [
    "%matplotlib inline\n",
    "import pandas as pd\n",
    "import numpy as np\n",
    "import re, os\n",
    "\n",
    "from funciones import *\n",
    "from variables import *"
   ]
  },
  {
   "cell_type": "markdown",
   "metadata": {},
   "source": [
    "### Define the equivalent concentrations and open the chemistry data\n",
    "The code converts component concentration to equivalent HCO3 weights and creates a columns with the calculated values for each sample."
   ]
  },
  {
   "cell_type": "code",
   "execution_count": 2,
   "metadata": {},
   "outputs": [],
   "source": [
    "#ion dictionary\n",
    "iones = {\n",
    "'HCO3': 61, 'CO3' : 30, 'Cl' : 35, 'SO4': 48,\n",
    "'Na' : 23, 'Ca' : 20, 'Mg' : 12, 'K'  : 39\n",
    "}\n",
    "\n",
    "#chemistry dataframe\n",
    "datosQuimica = pd.read_excel('../InputData/DatosDiagramaStiff.xlsx')\n",
    "\n",
    "#replace incompatible characters\n",
    "datosQuimica['Estacion'] = datosQuimica['Estacion'].str.replace(\"/\",\"_\")\n",
    "datosQuimica['Estacion'] = datosQuimica['Estacion'].str.replace(\"–\",\"-\")\n",
    "datosQuimica['Estacion'] = datosQuimica['Estacion'].str.replace(\" |%/s\",\"\")\n",
    "datosQuimica = datosQuimica.set_index(['Estacion'])\n",
    "\n",
    "#equivalen weight colum\n",
    "for ion in iones.keys():\n",
    "    datosQuimica[str(ion)+'_meq'] = datosQuimica[ion]/iones[ion]"
   ]
  },
  {
   "cell_type": "markdown",
   "metadata": {},
   "source": [
    "### Generation of images files \n",
    "This tutorial generates the Stiff diagram as Png and SVG files. In order to import the Stiff diagram in QGIS we need the image vector file SVG."
   ]
  },
  {
   "cell_type": "code",
   "execution_count": 3,
   "metadata": {},
   "outputs": [],
   "source": [
    "for index, row in datosQuimica.iterrows():\n",
    "    Na_K, Ca, Mg = row['Na_meq']+row['K_meq'], row['Ca_meq'], row['Mg_meq'] \n",
    "    Cl, SO4, HCO3_CO3 = row['Cl_meq'], row['SO4_meq'], row['HCO3_meq']+row['CO3_meq']\n",
    "    #apply some factor for the axis\n",
    "    maxConNorm = max([Na_K, Ca, Mg, Cl, SO4, HCO3_CO3])*2\n",
    "    #set of points of the Stiff diagram\n",
    "    a = np.array([[0.5 + Cl/maxConNorm,1],[0.5 + SO4/maxConNorm,.5],[0.5 + HCO3_CO3/maxConNorm,0]\n",
    "                  ,[0.5 - Mg/maxConNorm,0],[0.5 - Ca/maxConNorm,.5],[0.5 - Na_K/maxConNorm,1]])\n",
    "    \n",
    "    figura = diagramaStiff(a, maxConNorm, index)\n",
    "    figura.savefig('../Svg/Stiff-'+str(index)+'.svg')\n",
    "    figura.savefig('../Png/Stiff-'+str(index)+'.png')"
   ]
  },
  {
   "cell_type": "markdown",
   "metadata": {},
   "source": [
    "### Representation of the generated Stiff diagrams\n",
    "A sample representation of the generated diagrams"
   ]
  },
  {
   "cell_type": "code",
   "execution_count": 21,
   "metadata": {},
   "outputs": [
    {
     "data": {
      "image/png": "[encoded data removed]",
      "text/plain": [
       "<Figure size 720x432 with 1 Axes>"
      ]
     },
     "metadata": {
      "needs_background": "light"
     },
     "output_type": "display_data"
    }
   ],
   "source": [
    "import matplotlib.pyplot as plt\n",
    "stiffObject = plt.imread('../Png/Stiff-CHA-01.png')\n",
    "fig, ax = plt.subplots(figsize=(10,6))\n",
    "ax.axis('off')\n",
    "ax.imshow(stiffObject)\n",
    "plt.show()"
   ]
  },
  {
   "cell_type": "markdown",
   "metadata": {},
   "source": [
    "### Generation of spatial file and style file\n",
    "The observation points with their coordinates are exported in one file and the Stiff diagrams are linked on a style file."
   ]
  },
  {
   "cell_type": "code",
   "execution_count": 5,
   "metadata": {},
   "outputs": [],
   "source": [
    "#observation point spatial file\n",
    "datosQuimicaGeo = datosQuimica.loc[:,'Este':'Norte']\n",
    "datosQuimicaGeo.to_csv('../Txt/datosQuimicaGeo.csv')"
   ]
  },
  {
   "cell_type": "code",
   "execution_count": 6,
   "metadata": {},
   "outputs": [
    {
     "data": {
      "text/plain": [
       "'C:/Users/GIDAWK1/Documents/GeoreferencedStiffDiagramwithPythonandQGIS/Svg'"
      ]
     },
     "execution_count": 6,
     "metadata": {},
     "output_type": "execute_result"
    }
   ],
   "source": [
    "#path to the Svg folder\n",
    "imagePath = os.path.join(os.path.dirname(os.getcwd()),'Svg')\n",
    "imagePath = imagePath.replace('\\\\','/')\n",
    "imagePath"
   ]
  },
  {
   "cell_type": "code",
   "execution_count": 7,
   "metadata": {},
   "outputs": [],
   "source": [
    "#style file generation\n",
    "archivoestilos = open('../Txt/estilosQuimicaGeo.sld','w')\n",
    "archivoestilos.write(encabezado)\n",
    "\n",
    "for index, row in datosQuimica.iterrows():\n",
    "    item = re.sub('%%path%%',imagePath,item)\n",
    "    estiloitem = re.sub('%%index%%',index,item)\n",
    "    archivoestilos.write(estiloitem)\n",
    "archivoestilos.write(final)\n",
    "\n",
    "archivoestilos.close()"
   ]
  }
 ],
 "metadata": {
  "anaconda-cloud": {},
  "kernelspec": {
   "display_name": "Python 3",
   "language": "python",
   "name": "python3"
  },
  "language_info": {
   "codemirror_mode": {
    "name": "ipython",
    "version": 3
   },
   "file_extension": ".py",
   "mimetype": "text/x-python",
   "name": "python",
   "nbconvert_exporter": "python",
   "pygments_lexer": "ipython3",
   "version": "3.7.1"
  }
 },
 "nbformat": 4,
 "nbformat_minor": 1
}
